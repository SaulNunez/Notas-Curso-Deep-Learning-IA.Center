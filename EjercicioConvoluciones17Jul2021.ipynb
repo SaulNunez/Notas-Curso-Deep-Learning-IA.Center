{
  "nbformat": 4,
  "nbformat_minor": 0,
  "metadata": {
    "colab": {
      "name": "EjercicioConvoluciones17Jul2021.ipynb",
      "provenance": [],
      "collapsed_sections": [],
      "authorship_tag": "ABX9TyNpOFYQFAygOBghb8zSlRrK",
      "include_colab_link": true
    },
    "kernelspec": {
      "name": "python3",
      "display_name": "Python 3"
    },
    "language_info": {
      "name": "python"
    }
  },
  "cells": [
    {
      "cell_type": "markdown",
      "metadata": {
        "id": "view-in-github",
        "colab_type": "text"
      },
      "source": [
        "<a href=\"https://colab.research.google.com/github/SaulNunez/Notas-Curso-Deep-Learning-IA.Center/blob/master/EjercicioConvoluciones17Jul2021.ipynb\" target=\"_parent\"><img src=\"https://colab.research.google.com/assets/colab-badge.svg\" alt=\"Open In Colab\"/></a>"
      ]
    },
    {
      "cell_type": "code",
      "metadata": {
        "id": "_vQFccDx7-oR"
      },
      "source": [
        "def print_matrix(mat, name=None, val_len=3):\n",
        "  out_str = \"\"\n",
        "\n",
        "  if name is not None:\n",
        "    out_str += (\"--\" + \"-\" * val_len + \"-\") * len(mat[0]) + \"-\\n\"\n",
        "    out_str += str(name) + \":\\n\"\n",
        "\n",
        "  # Draw a starting line\n",
        "  out_str += (\"--\" + \"-\" * val_len + \"-\") * len(mat[0]) + \"-\\n\"\n",
        "\n",
        "  # Add all the values\n",
        "  for row in mat:\n",
        "    for val in row:\n",
        "      val = str(val)\n",
        "      out_str += \"| \" + \" \" * (val_len - len(val)) + val + \" \"\n",
        "    out_str += \"|\\n\"\n",
        "\n",
        "  if row is not mat[-1]:\n",
        "    #Draw the lines between rows\n",
        "    out_str += (\"|-\" + \"-\" * val_len + \"-\") * len(mat[0]) + \"|\\n\"\n",
        "\n",
        "  # Draw the last line\n",
        "  out_str += (\"--\" + \"-\" * val_len + \"-\") * len(mat[0]) + \"-\\n\"\n",
        "\n",
        "  print(out_str)"
      ],
      "execution_count": null,
      "outputs": []
    },
    {
      "cell_type": "code",
      "metadata": {
        "id": "NzUA5u6p7_-p"
      },
      "source": [
        "def get_next_conv(img, kernel=None):\n",
        "  if kernel is None:\n",
        "    kernel = [[0,0,0],\n",
        "              [0,0,0],\n",
        "              [0,0,0]]\n",
        "  conv = []\n",
        "  for s_row in range(len(img) - len(kernel) + 1):\n",
        "    for s_column in range(len(img[0]) - len(kernel[0]) + 1):\n",
        "      conv = [[img[s_row][s_column], img[s_row][s_column + 1], img[s_row][s_column + 2]],\n",
        "              [img[s_row+1][s_column], img[s_row + 1][s_column + 1], img[s_row + 1][s_column + 2]],\n",
        "              [img[s_row+2][s_column], img[s_row + 2][s_column + 1], img[s_row + 2][s_column + 2]]\n",
        "              ]\n",
        "      yield conv"
      ],
      "execution_count": null,
      "outputs": []
    },
    {
      "cell_type": "markdown",
      "metadata": {
        "id": "Xo9oDkPLe80T"
      },
      "source": [
        "## Puntos extras"
      ]
    },
    {
      "cell_type": "markdown",
      "metadata": {
        "id": "idLPp7e9e_tm"
      },
      "source": [
        "Hacer función para calcular la convolución en toda imagen"
      ]
    },
    {
      "cell_type": "code",
      "metadata": {
        "id": "CmpEAcDHBzjE"
      },
      "source": [
        "def compute_convoluted_matrix(img, kernel= None):\n",
        "  if kernel is None:\n",
        "    kernel = [[0,0,0],\n",
        "              [0,0,0],\n",
        "              [0,0,0]]\n",
        "\n",
        "  res = []\n",
        "  \n",
        "  #First row is zero\n",
        "  res.append([])\n",
        "  for elem in range(len(img[0])):\n",
        "    res[0].append(0)\n",
        "\n",
        "  conv_gen = get_next_conv(img, kernel)\n",
        "  for row in range(1, len(img) - 1):\n",
        "    res.append([0])\n",
        "    for col in range(1, len(img[0]) - 1):\n",
        "      conv = next(conv_gen)\n",
        "      # print_matrix(conv)\n",
        "      conv_sum = 0\n",
        "      for conv_col in range(len(conv)):\n",
        "        for conv_row in range(len(conv[0])):\n",
        "          conv_sum += conv[conv_row][conv_col] * kernel[conv_row][conv_col]\n",
        "      res[row].append(conv_sum)\n",
        "    res[row].append(0)\n",
        "\n",
        "  #Last row is also zero because there's quite a few values we are missing\n",
        "  res.append([])\n",
        "  for elem in range(len(img[0])):\n",
        "    res[-1].append(0)\n",
        "\n",
        "  return res"
      ],
      "execution_count": null,
      "outputs": []
    },
    {
      "cell_type": "code",
      "metadata": {
        "id": "drY3CaFrmV-I"
      },
      "source": [
        "def limit(img):\n",
        "  limited_img = img.copy()\n",
        "  for row in range(len(img)):\n",
        "    for column in range(len(img[0])):\n",
        "      if limited_img[row][column] > 255:\n",
        "        limited_img[row][column] = 255\n",
        "      elif limited_img[row][column] < 0:\n",
        "        limited_img[row][column] = 0\n",
        "\n",
        "  return limited_img"
      ],
      "execution_count": null,
      "outputs": []
    },
    {
      "cell_type": "markdown",
      "metadata": {
        "id": "4cQJpb_v7Jl3"
      },
      "source": [
        "## Ejercicio 1"
      ]
    },
    {
      "cell_type": "code",
      "metadata": {
        "colab": {
          "base_uri": "https://localhost:8080/"
        },
        "id": "WU4fbBTx62YC",
        "outputId": "d784365b-0e6f-4d49-d200-186f6c5bc050"
      },
      "source": [
        "mat1 = [[178, 88, 28, 186, 164],\n",
        "        [4, 226, 204, 71, 194],\n",
        "        [200, 175, 156, 53, 0],\n",
        "        [3, 127, 217, 208, 187],\n",
        "        [200, 173, 134, 209, 213]]\n",
        "\n",
        "kernel1 = [[0, -1, 0],\n",
        "           [-1, 5, -1],\n",
        "           [0, -1, 0]]\n",
        "\n",
        "print_matrix(limit(compute_convoluted_matrix(mat1, kernel1)), name=\"Ejercicio 1\", val_len=5)"
      ],
      "execution_count": null,
      "outputs": [
        {
          "output_type": "stream",
          "text": [
            "-----------------------------------------\n",
            "Ejercicio 1:\n",
            "-----------------------------------------\n",
            "|     0 |     0 |     0 |     0 |     0 |\n",
            "|     0 |   255 |   255 |     0 |     0 |\n",
            "|     0 |   166 |   131 |     0 |     0 |\n",
            "|     0 |    67 |   255 |   255 |     0 |\n",
            "|     0 |     0 |     0 |     0 |     0 |\n",
            "-----------------------------------------\n",
            "\n"
          ],
          "name": "stdout"
        }
      ]
    },
    {
      "cell_type": "markdown",
      "metadata": {
        "id": "58L7GRzC7UVN"
      },
      "source": [
        "## Ejercicio 2"
      ]
    },
    {
      "cell_type": "code",
      "metadata": {
        "colab": {
          "base_uri": "https://localhost:8080/"
        },
        "id": "F2z65Ey-7aUF",
        "outputId": "296140e2-d63a-4e7a-d9fe-8992ffc00e53"
      },
      "source": [
        "mat2 = [[55, 179, 171, 205, 124],\n",
        "        [72, 83, 163, 66, 132],\n",
        "        [99, 39, 192, 135, 23],\n",
        "        [46, 101, 162, 152, 156],\n",
        "        [165, 7, 118, 243, 9]]\n",
        "\n",
        "kernel2 = [[1, 2, 1],\n",
        "           [0, 0, 0],\n",
        "           [-1, -2, -1]]\n",
        "\n",
        "print_matrix(limit(compute_convoluted_matrix(mat2, kernel2)), \\\n",
        "                           name=\"Ejercicio 2\", val_len=5)"
      ],
      "execution_count": null,
      "outputs": [
        {
          "output_type": "stream",
          "text": [
            "-----------------------------------------\n",
            "Ejercicio 2:\n",
            "-----------------------------------------\n",
            "|     0 |     0 |     0 |     0 |     0 |\n",
            "|     0 |   215 |   168 |   220 |     0 |\n",
            "|     0 |     0 |     0 |     0 |     0 |\n",
            "|     0 |    72 |    72 |     0 |     0 |\n",
            "|     0 |     0 |     0 |     0 |     0 |\n",
            "-----------------------------------------\n",
            "\n"
          ],
          "name": "stdout"
        }
      ]
    },
    {
      "cell_type": "markdown",
      "metadata": {
        "id": "aOHf1Fpt7a0P"
      },
      "source": [
        "## Ejercicio 3"
      ]
    },
    {
      "cell_type": "code",
      "metadata": {
        "colab": {
          "base_uri": "https://localhost:8080/"
        },
        "id": "CPCuelhF7pS1",
        "outputId": "5d34aa99-8fc5-40fa-b095-5de589dfb08d"
      },
      "source": [
        "mat3=[[155, 125, 228, 101, 147],\n",
        "      [133, 19, 95, 109, 249],\n",
        "      [133, 120, 174, 94, 190],\n",
        "      [178, 251, 69, 159, 39],\n",
        "      [47, 111, 26, 171, 156]]\n",
        "\n",
        "kernel3=[[-2, -1, 0],\n",
        "         [-1, 1, 1],\n",
        "         [0, 1, 2]]\n",
        "\n",
        "print_matrix(limit(compute_convoluted_matrix(mat3, kernel3)), \\\n",
        "                           name=\"Ejercicio 3\", val_len=5)"
      ],
      "execution_count": null,
      "outputs": [
        {
          "output_type": "stream",
          "text": [
            "-----------------------------------------\n",
            "Ejercicio 3:\n",
            "-----------------------------------------\n",
            "|     0 |     0 |     0 |     0 |     0 |\n",
            "|     0 |    14 |    69 |   180 |     0 |\n",
            "|     0 |   255 |   255 |    48 |     0 |\n",
            "|     0 |     0 |     0 |   170 |     0 |\n",
            "|     0 |     0 |     0 |     0 |     0 |\n",
            "-----------------------------------------\n",
            "\n"
          ],
          "name": "stdout"
        }
      ]
    },
    {
      "cell_type": "markdown",
      "metadata": {
        "id": "3kfhqp687tTW"
      },
      "source": [
        "## Ejercicio 4"
      ]
    },
    {
      "cell_type": "code",
      "metadata": {
        "colab": {
          "base_uri": "https://localhost:8080/"
        },
        "id": "su4fzkk575Vn",
        "outputId": "a35b589c-ee2e-4087-9af0-ac75f9377718"
      },
      "source": [
        "mat4 = [[237, 90, 40, 207, 112],\n",
        "         [191, 123, 158, 55, 128],\n",
        "         [36, 168, 149, 225, 176],\n",
        "         [10, 113, 128, 244, 58],\n",
        "         [66, 87, 225, 59, 236]]\n",
        "\n",
        "kernel4 = [[-1, -1, -1],\n",
        "            [-1, 8, -1],\n",
        "            [-1, -1, -1]]\n",
        "\n",
        "print_matrix(limit(compute_convoluted_matrix(mat4, kernel4)), \\\n",
        "                           name=\"Ejercicio 4\",val_len=5)"
      ],
      "execution_count": null,
      "outputs": [
        {
          "output_type": "stream",
          "text": [
            "-----------------------------------------\n",
            "Ejercicio 4:\n",
            "-----------------------------------------\n",
            "|     0 |     0 |     0 |     0 |     0 |\n",
            "|     0 |     0 |   207 |     0 |     0 |\n",
            "|     0 |   255 |     0 |   255 |     0 |\n",
            "|     0 |    35 |     0 |   255 |     0 |\n",
            "|     0 |     0 |     0 |     0 |     0 |\n",
            "-----------------------------------------\n",
            "\n"
          ],
          "name": "stdout"
        }
      ]
    }
  ]
}