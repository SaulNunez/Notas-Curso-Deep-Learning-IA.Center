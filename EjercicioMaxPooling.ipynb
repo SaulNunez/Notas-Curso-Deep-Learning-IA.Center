{
  "nbformat": 4,
  "nbformat_minor": 0,
  "metadata": {
    "colab": {
      "name": "EjercicioMaxPooling.ipynb",
      "provenance": [],
      "authorship_tag": "ABX9TyPbnDli86fZnIRXZSS5wzK9",
      "include_colab_link": true
    },
    "kernelspec": {
      "name": "python3",
      "display_name": "Python 3"
    },
    "language_info": {
      "name": "python"
    }
  },
  "cells": [
    {
      "cell_type": "markdown",
      "metadata": {
        "id": "view-in-github",
        "colab_type": "text"
      },
      "source": [
        "<a href=\"https://colab.research.google.com/github/SaulNunez/Notas-Curso-Deep-Learning-IA.Center/blob/master/EjercicioMaxPooling.ipynb\" target=\"_parent\"><img src=\"https://colab.research.google.com/assets/colab-badge.svg\" alt=\"Open In Colab\"/></a>"
      ]
    },
    {
      "cell_type": "code",
      "metadata": {
        "colab": {
          "base_uri": "https://localhost:8080/"
        },
        "id": "1nT6mXJPDU6M",
        "outputId": "476a3c49-fc96-40dd-828a-1e25b531c691"
      },
      "source": [
        "ej5_mp = [\n",
        "          [247,206, 129],\n",
        "          [239, 244, 249],\n",
        "          [194, 211, 242]\n",
        "]\n",
        "\n",
        "print_matrix(ej5_mp, 'Max pooling ejercicio 5')"
      ],
      "execution_count": null,
      "outputs": [
        {
          "output_type": "stream",
          "text": [
            "-------------------\n",
            "Max pooling ejercicio 5:\n",
            "-------------------\n",
            "| 247 | 206 | 129 |\n",
            "| 239 | 244 | 249 |\n",
            "| 194 | 211 | 242 |\n",
            "-------------------\n",
            "\n"
          ],
          "name": "stdout"
        }
      ]
    },
    {
      "cell_type": "code",
      "metadata": {
        "id": "3B31kM2a6fr3"
      },
      "source": [
        "def print_matrix(mat, name=None, val_len=3):\n",
        "  out_str = \"\"\n",
        "\n",
        "  if name is not None:\n",
        "    out_str += (\"--\" + \"-\" * val_len + \"-\") * len(mat[0]) + \"-\\n\"\n",
        "    out_str += str(name) + \":\\n\"\n",
        "\n",
        "  # Draw a starting line\n",
        "  out_str += (\"--\" + \"-\" * val_len + \"-\") * len(mat[0]) + \"-\\n\"\n",
        "\n",
        "  # Add all the values\n",
        "  for row in mat:\n",
        "    for val in row:\n",
        "      val = str(val)\n",
        "      out_str += \"| \" + \" \" * (val_len - len(val)) + val + \" \"\n",
        "    out_str += \"|\\n\"\n",
        "\n",
        "  if row is not mat[-1]:\n",
        "    #Draw the lines between rows\n",
        "    out_str += (\"|-\" + \"-\" * val_len + \"-\") * len(mat[0]) + \"|\\n\"\n",
        "\n",
        "  # Draw the last line\n",
        "  out_str += (\"--\" + \"-\" * val_len + \"-\") * len(mat[0]) + \"-\\n\"\n",
        "\n",
        "  print(out_str)"
      ],
      "execution_count": 1,
      "outputs": []
    },
    {
      "cell_type": "markdown",
      "metadata": {
        "id": "xVTeUby76hEs"
      },
      "source": [
        "## Ejercicio 1"
      ]
    },
    {
      "cell_type": "code",
      "metadata": {
        "id": "XEzHy4bi5Z6_",
        "colab": {
          "base_uri": "https://localhost:8080/"
        },
        "outputId": "f7acbe85-55d0-4082-c6c7-9e309d16f596"
      },
      "source": [
        "ej1 = [\n",
        "       [31, 97, 226, 142, 203, 113],\n",
        "       [179, 43, 194, 175, 184, 192],\n",
        "       [176, 201, 180, 1, 174, 102],\n",
        "       [237, 13, 191, 250, 76, 90],\n",
        "       [192, 2, 86, 137, 188, 224],\n",
        "       [47, 200, 148, 151, 136, 244]\n",
        "]\n",
        "\n",
        "print_matrix(ej1, 'Imagen original')"
      ],
      "execution_count": 4,
      "outputs": [
        {
          "output_type": "stream",
          "text": [
            "-------------------------------------\n",
            "Imagen original:\n",
            "-------------------------------------\n",
            "|  31 |  97 | 226 | 142 | 203 | 113 |\n",
            "| 179 |  43 | 194 | 175 | 184 | 192 |\n",
            "| 176 | 201 | 180 |   1 | 174 | 102 |\n",
            "| 237 |  13 | 191 | 250 |  76 |  90 |\n",
            "| 192 |   2 |  86 | 137 | 188 | 224 |\n",
            "| 192 | 200 | 148 | 151 | 136 | 244 |\n",
            "-------------------------------------\n",
            "\n"
          ],
          "name": "stdout"
        }
      ]
    },
    {
      "cell_type": "code",
      "metadata": {
        "colab": {
          "base_uri": "https://localhost:8080/"
        },
        "id": "V190WvtT6sDz",
        "outputId": "23e67d80-8428-4164-bc07-3a139a574b9f"
      },
      "source": [
        "ej1_mp= [\n",
        "         [179, 226, 203],\n",
        "         [237, 250, 174],\n",
        "         [200, 148, 244]\n",
        "]\n",
        "\n",
        "print_matrix(ej1_mp, 'Max pooling ejercicio 1')"
      ],
      "execution_count": 6,
      "outputs": [
        {
          "output_type": "stream",
          "text": [
            "-------------------\n",
            "Max pooling ejercicio 1:\n",
            "-------------------\n",
            "| 179 | 226 | 203 |\n",
            "| 237 | 250 | 174 |\n",
            "| 200 | 148 | 244 |\n",
            "-------------------\n",
            "\n"
          ],
          "name": "stdout"
        }
      ]
    },
    {
      "cell_type": "markdown",
      "metadata": {
        "id": "F-PLgVSs7wXK"
      },
      "source": [
        "## Ejercicio 2"
      ]
    },
    {
      "cell_type": "code",
      "metadata": {
        "colab": {
          "base_uri": "https://localhost:8080/"
        },
        "id": "mCNAXfor72Gf",
        "outputId": "34eeb1ac-d848-4b28-d036-f3214f034b3b"
      },
      "source": [
        "ej2 = [\n",
        "       [95, 103, 78, 118, 249, 157],\n",
        "       [89, 210, 204, 30, 64, 53],\n",
        "       [60, 62, 40, 73, 242, 114],\n",
        "       [239, 228, 175, 44, 211, 173],\n",
        "       [209, 207, 136, 198, 133, 23],\n",
        "       [163, 249, 68, 234, 102, 202]\n",
        "]\n",
        "\n",
        "print_matrix(ej2, 'Imagen Original')"
      ],
      "execution_count": 10,
      "outputs": [
        {
          "output_type": "stream",
          "text": [
            "-------------------------------------\n",
            "Imagen Original:\n",
            "-------------------------------------\n",
            "|  95 | 103 |  78 | 118 | 249 | 157 |\n",
            "|  89 | 210 | 204 |  30 |  64 |  53 |\n",
            "|  60 |  62 |  40 |  73 | 242 | 114 |\n",
            "| 239 | 228 | 175 |  44 | 211 | 173 |\n",
            "| 209 | 207 | 136 | 198 | 133 |  23 |\n",
            "| 163 | 249 |  68 | 234 | 102 | 202 |\n",
            "-------------------------------------\n",
            "\n"
          ],
          "name": "stdout"
        }
      ]
    },
    {
      "cell_type": "code",
      "metadata": {
        "colab": {
          "base_uri": "https://localhost:8080/"
        },
        "id": "G3hogYBd8pW2",
        "outputId": "3754abb7-3f86-429b-98da-3b7b6d7a4190"
      },
      "source": [
        "ej2_mp = [\n",
        "          [210, 204, 249],\n",
        "          [239, 175, 242],\n",
        "          [249, 234, 202]\n",
        "]\n",
        "\n",
        "print_matrix(ej2_mp, 'Max pooling ejercicio 2')"
      ],
      "execution_count": 11,
      "outputs": [
        {
          "output_type": "stream",
          "text": [
            "-------------------\n",
            "Max pooling ejercicio 2:\n",
            "-------------------\n",
            "| 210 | 204 | 249 |\n",
            "| 239 | 175 | 242 |\n",
            "| 249 | 234 | 202 |\n",
            "-------------------\n",
            "\n"
          ],
          "name": "stdout"
        }
      ]
    },
    {
      "cell_type": "markdown",
      "metadata": {
        "id": "RZ_RP3Sv9eQ-"
      },
      "source": [
        "## Ejercicio 3"
      ]
    },
    {
      "cell_type": "code",
      "metadata": {
        "colab": {
          "base_uri": "https://localhost:8080/"
        },
        "id": "fdEhPLJM9gK0",
        "outputId": "175fa5d8-f8ef-48d5-eab3-4cfdbaccc183"
      },
      "source": [
        "ej3 = [\n",
        "       [137, 35, 104, 84, 18, 74],\n",
        "       [125, 184, 120, 233, 199, 180],\n",
        "       [123, 16, 110, 57, 145, 218],\n",
        "       [204, 4, 127, 151, 239, 17],\n",
        "       [46, 123, 197, 178, 138, 39],\n",
        "       [80, 237, 22, 75, 15, 49]\n",
        "]\n",
        "\n",
        "print_matrix(ej3, 'Imagen Original')"
      ],
      "execution_count": 15,
      "outputs": [
        {
          "output_type": "stream",
          "text": [
            "-------------------------------------\n",
            "Imagen Original:\n",
            "-------------------------------------\n",
            "| 137 |  35 | 104 |  84 |  18 |  74 |\n",
            "| 125 | 184 | 120 | 233 | 199 | 180 |\n",
            "| 123 |  16 | 110 |  57 | 145 | 218 |\n",
            "| 204 |   4 | 127 | 151 | 239 |  17 |\n",
            "|  46 | 123 | 197 | 178 | 138 |  39 |\n",
            "|  80 | 237 |  22 |  75 |  15 |  49 |\n",
            "-------------------------------------\n",
            "\n"
          ],
          "name": "stdout"
        }
      ]
    },
    {
      "cell_type": "code",
      "metadata": {
        "colab": {
          "base_uri": "https://localhost:8080/"
        },
        "id": "REK7p0-5-JtO",
        "outputId": "c34f62b0-a73c-4e33-ff34-708091277aa8"
      },
      "source": [
        "ej3_mp = [\n",
        "          [184, 233, 199],\n",
        "          [204, 151, 239],\n",
        "          [237, 197, 138]\n",
        "]\n",
        "\n",
        "print_matrix(ej3_mp, 'Max pooling ejercicio 3')"
      ],
      "execution_count": 16,
      "outputs": [
        {
          "output_type": "stream",
          "text": [
            "-------------------\n",
            "Max pooling ejercicio 3:\n",
            "-------------------\n",
            "| 184 | 233 | 199 |\n",
            "| 204 | 151 | 239 |\n",
            "| 237 | 197 | 138 |\n",
            "-------------------\n",
            "\n"
          ],
          "name": "stdout"
        }
      ]
    },
    {
      "cell_type": "markdown",
      "metadata": {
        "id": "9vQNf5Pn-zZm"
      },
      "source": [
        "## Ejercicio 4"
      ]
    },
    {
      "cell_type": "code",
      "metadata": {
        "colab": {
          "base_uri": "https://localhost:8080/"
        },
        "id": "rFwiBFjw-09k",
        "outputId": "6956ebc7-1467-4e4f-f71b-800090fe2362"
      },
      "source": [
        "ej4 = [\n",
        "       [214, 23, 162, 75, 71, 117],\n",
        "       [218, 86, 240, 43, 92, 45],\n",
        "       [2, 37, 169, 230, 35, 253],\n",
        "       [253, 252, 249, 37, 233, 115],\n",
        "       [122, 187, 32, 223, 35, 127],\n",
        "       [96, 117, 146, 122, 141, 185]\n",
        "]\n",
        "\n",
        "print_matrix(ej4, 'Imagen original')"
      ],
      "execution_count": 17,
      "outputs": [
        {
          "output_type": "stream",
          "text": [
            "-------------------------------------\n",
            "Imagen original:\n",
            "-------------------------------------\n",
            "| 214 |  23 | 162 |  75 |  71 | 117 |\n",
            "| 218 |  86 | 240 |  43 |  92 |  45 |\n",
            "|   2 |  37 | 169 | 230 |  35 | 253 |\n",
            "| 253 | 252 | 249 |  37 | 233 | 115 |\n",
            "| 122 | 187 |  32 | 223 |  35 | 127 |\n",
            "|  96 | 117 | 146 | 122 | 141 | 185 |\n",
            "-------------------------------------\n",
            "\n"
          ],
          "name": "stdout"
        }
      ]
    },
    {
      "cell_type": "code",
      "metadata": {
        "colab": {
          "base_uri": "https://localhost:8080/"
        },
        "id": "bZEFjrX8AKNh",
        "outputId": "58674353-858d-42c7-944a-f83fdffc79f3"
      },
      "source": [
        "ej4_mp = [\n",
        "          [218, 240, 117],\n",
        "          [253, 249, 253],\n",
        "          [187, 223, 185]\n",
        "]\n",
        "\n",
        "print_matrix(ej4_mp, 'Max pooling ejercicio 4')"
      ],
      "execution_count": 19,
      "outputs": [
        {
          "output_type": "stream",
          "text": [
            "-------------------\n",
            "Max pooling ejercicio 4:\n",
            "-------------------\n",
            "| 218 | 240 | 117 |\n",
            "| 253 | 249 | 253 |\n",
            "| 187 | 223 | 185 |\n",
            "-------------------\n",
            "\n"
          ],
          "name": "stdout"
        }
      ]
    },
    {
      "cell_type": "markdown",
      "metadata": {
        "id": "OSXq96JVA_jY"
      },
      "source": [
        "## Ejercicio 5"
      ]
    },
    {
      "cell_type": "code",
      "metadata": {
        "colab": {
          "base_uri": "https://localhost:8080/"
        },
        "id": "9VaXYV7-BBxK",
        "outputId": "f3ed1fe1-3e3b-499a-acf7-2953da1e5d67"
      },
      "source": [
        "ej5 = [\n",
        "       [132, 224, 20, 135, 119, 114],\n",
        "       [247, 5, 206, 53, 72, 129],\n",
        "       [20, 168, 224, 99, 10, 136],\n",
        "       [238, 239, 1, 27, 249, 106],\n",
        "       [18, 32, 82, 18, 70, 157],\n",
        "       [194, 158, 50, 211, 242, 119]\n",
        "]\n",
        "\n",
        "print_matrix(ej5, 'Imagen original')"
      ],
      "execution_count": 20,
      "outputs": [
        {
          "output_type": "stream",
          "text": [
            "-------------------------------------\n",
            "Imagen original:\n",
            "-------------------------------------\n",
            "| 132 | 224 |  20 | 135 | 119 | 114 |\n",
            "| 247 |   5 | 206 |  53 |  72 | 129 |\n",
            "|  20 | 168 | 224 |  99 |  10 | 136 |\n",
            "| 238 | 239 |   1 |  27 | 249 | 106 |\n",
            "|  18 |  32 |  82 |  18 |  70 | 157 |\n",
            "| 194 | 158 |  50 | 211 | 242 | 119 |\n",
            "-------------------------------------\n",
            "\n"
          ],
          "name": "stdout"
        }
      ]
    },
    {
      "cell_type": "code",
      "metadata": {
        "colab": {
          "base_uri": "https://localhost:8080/"
        },
        "id": "gr2o0hJ7B1JB",
        "outputId": "476a3c49-fc96-40dd-828a-1e25b531c691"
      },
      "source": [
        "ej5_mp = [\n",
        "          [247,206, 129],\n",
        "          [239, 244, 249],\n",
        "          [194, 211, 242]\n",
        "]\n",
        "\n",
        "print_matrix(ej5_mp, 'Max pooling ejercicio 5')"
      ],
      "execution_count": 21,
      "outputs": [
        {
          "output_type": "stream",
          "text": [
            "-------------------\n",
            "Max pooling ejercicio 5:\n",
            "-------------------\n",
            "| 247 | 206 | 129 |\n",
            "| 239 | 244 | 249 |\n",
            "| 194 | 211 | 242 |\n",
            "-------------------\n",
            "\n"
          ],
          "name": "stdout"
        }
      ]
    },
    {
      "cell_type": "markdown",
      "metadata": {
        "id": "5SROqWorCcZP"
      },
      "source": [
        "## Ejercicio 6"
      ]
    },
    {
      "cell_type": "code",
      "metadata": {
        "colab": {
          "base_uri": "https://localhost:8080/"
        },
        "id": "I8EzM4yrCecu",
        "outputId": "bee75e2c-9a73-4e8e-c1b0-36e4338d23b7"
      },
      "source": [
        "ej6 = [\n",
        "       [150, 121, 62, 54, 106, 111],\n",
        "       [16, 223, 20, 34, 198, 96],\n",
        "       [58, 33, 39, 215, 228, 19],\n",
        "       [230, 64, 112, 199, 125, 217],\n",
        "       [217, 235, 123, 92, 73, 242],\n",
        "       [82, 156, 77, 144, 179, 20]\n",
        "]\n",
        "\n",
        "print_matrix(ej6, 'Imagen original')"
      ],
      "execution_count": 22,
      "outputs": [
        {
          "output_type": "stream",
          "text": [
            "-------------------------------------\n",
            "Imagen original:\n",
            "-------------------------------------\n",
            "| 150 | 121 |  62 |  54 | 106 | 111 |\n",
            "|  16 | 223 |  20 |  34 | 198 |  96 |\n",
            "|  58 |  33 |  39 | 215 | 228 |  19 |\n",
            "| 230 |  64 | 112 | 199 | 125 | 217 |\n",
            "| 217 | 235 | 123 |  92 |  73 | 242 |\n",
            "|  82 | 156 |  77 | 144 | 179 |  20 |\n",
            "-------------------------------------\n",
            "\n"
          ],
          "name": "stdout"
        }
      ]
    },
    {
      "cell_type": "code",
      "metadata": {
        "colab": {
          "base_uri": "https://localhost:8080/"
        },
        "id": "N5ak1rIjDbLs",
        "outputId": "bced1f33-118a-4c0d-dd51-fa577a2d614e"
      },
      "source": [
        "ej6_mp = [\n",
        "          [223,62, 198],\n",
        "          [230, 215, 228],\n",
        "          [235, 144, 242]\n",
        "] \n",
        "\n",
        "print_matrix(ej6_mp, 'Max pooling ejercicio 6')"
      ],
      "execution_count": 24,
      "outputs": [
        {
          "output_type": "stream",
          "text": [
            "-------------------\n",
            "Max pooling ejercicio 6:\n",
            "-------------------\n",
            "| 223 |  62 | 198 |\n",
            "| 230 | 215 | 228 |\n",
            "| 235 | 144 | 242 |\n",
            "-------------------\n",
            "\n"
          ],
          "name": "stdout"
        }
      ]
    },
    {
      "cell_type": "markdown",
      "metadata": {
        "id": "MA-aam_bE-bz"
      },
      "source": [
        "## Ejercicio 7"
      ]
    },
    {
      "cell_type": "code",
      "metadata": {
        "colab": {
          "base_uri": "https://localhost:8080/"
        },
        "id": "PDvjrGU_FArk",
        "outputId": "9c26bf6c-a719-4ce8-d668-fedc862dff42"
      },
      "source": [
        "ej7 = [\n",
        "       [66, 245, 159, 220, 236, 220],\n",
        "       [149, 142, 88, 118, 16, 48],\n",
        "       [136, 166, 184, 239, 220, 111],\n",
        "       [99, 72, 163, 28, 184, 121],\n",
        "       [209, 78, 224, 209, 83, 102],\n",
        "       [100, 73, 239, 238, 1, 239]\n",
        "]\n",
        "\n",
        "print_matrix(ej7, 'Imagen original')"
      ],
      "execution_count": 26,
      "outputs": [
        {
          "output_type": "stream",
          "text": [
            "-------------------------------------\n",
            "Imagen original:\n",
            "-------------------------------------\n",
            "|  66 | 245 | 159 | 220 | 236 | 220 |\n",
            "| 149 | 142 |  88 | 118 |  16 |  48 |\n",
            "| 136 | 166 | 184 | 239 | 220 | 111 |\n",
            "|  99 |  72 | 163 |  28 | 184 | 121 |\n",
            "| 209 |  78 | 224 | 209 |  83 | 102 |\n",
            "| 100 |  73 | 239 | 238 |   1 | 239 |\n",
            "-------------------------------------\n",
            "\n"
          ],
          "name": "stdout"
        }
      ]
    },
    {
      "cell_type": "code",
      "metadata": {
        "colab": {
          "base_uri": "https://localhost:8080/"
        },
        "id": "urYBgsRVFrcf",
        "outputId": "3e2b540d-68df-4932-e1d8-576d44689ee6"
      },
      "source": [
        "ej7_mp = [\n",
        "          [245, 220, 236],\n",
        "          [166, 239, 220],\n",
        "          [209, 239, 239]\n",
        "]\n",
        "\n",
        "print_matrix(ej7_mp, 'Max pooling ejercicio 7')"
      ],
      "execution_count": 27,
      "outputs": [
        {
          "output_type": "stream",
          "text": [
            "-------------------\n",
            "Max pooling ejercicio 7:\n",
            "-------------------\n",
            "| 245 | 220 | 236 |\n",
            "| 166 | 239 | 220 |\n",
            "| 209 | 239 | 239 |\n",
            "-------------------\n",
            "\n"
          ],
          "name": "stdout"
        }
      ]
    },
    {
      "cell_type": "markdown",
      "metadata": {
        "id": "9OhJ2aHnGKXq"
      },
      "source": [
        "## Ejercicio 8"
      ]
    },
    {
      "cell_type": "code",
      "metadata": {
        "colab": {
          "base_uri": "https://localhost:8080/"
        },
        "id": "2mkymf4_GLwl",
        "outputId": "497bc484-6e15-49fd-aab1-a0c91a163809"
      },
      "source": [
        "ej8 = [\n",
        "       [226, 75, 13, 167, 173, 213],\n",
        "       [176, 163, 200, 37, 121, 221],\n",
        "       [7, 113, 137, 92, 233, 67],\n",
        "       [246, 35, 139, 51, 93, 67],\n",
        "       [156, 183, 151, 21, 127, 176],\n",
        "       [253, 127, 215, 80, 43, 195]\n",
        "]\n",
        "\n",
        "print_matrix(ej8, 'Imagen original')"
      ],
      "execution_count": 28,
      "outputs": [
        {
          "output_type": "stream",
          "text": [
            "-------------------------------------\n",
            "Imagen original:\n",
            "-------------------------------------\n",
            "| 226 |  75 |  13 | 167 | 173 | 213 |\n",
            "| 176 | 163 | 200 |  37 | 121 | 221 |\n",
            "|   7 | 113 | 137 |  92 | 233 |  67 |\n",
            "| 246 |  35 | 139 |  51 |  93 |  67 |\n",
            "| 156 | 183 | 151 |  21 | 127 | 176 |\n",
            "| 253 | 127 | 215 |  80 |  43 | 195 |\n",
            "-------------------------------------\n",
            "\n"
          ],
          "name": "stdout"
        }
      ]
    },
    {
      "cell_type": "code",
      "metadata": {
        "colab": {
          "base_uri": "https://localhost:8080/"
        },
        "id": "3KyBnU_BHXMQ",
        "outputId": "697086d7-d7ba-4cbf-b80c-3bcb0ea5f02a"
      },
      "source": [
        "ej8_mp = [\n",
        "          [226, 200, 213],\n",
        "          [246, 139, 233],\n",
        "          [253, 215, 195]\n",
        "]\n",
        "\n",
        "print_matrix(ej8_mp, 'Max pooling ejercicio 8')"
      ],
      "execution_count": 29,
      "outputs": [
        {
          "output_type": "stream",
          "text": [
            "-------------------\n",
            "Max pooling ejercicio 8:\n",
            "-------------------\n",
            "| 226 | 200 | 213 |\n",
            "| 246 | 139 | 233 |\n",
            "| 253 | 215 | 195 |\n",
            "-------------------\n",
            "\n"
          ],
          "name": "stdout"
        }
      ]
    }
  ]
}