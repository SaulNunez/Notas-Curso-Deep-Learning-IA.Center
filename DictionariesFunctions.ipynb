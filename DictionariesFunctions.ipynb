{
  "nbformat": 4,
  "nbformat_minor": 0,
  "metadata": {
    "colab": {
      "name": "DictionariesFunctions.ipynb",
      "provenance": [],
      "authorship_tag": "ABX9TyOmqwhCOCirtHGUF3CtDTfK",
      "include_colab_link": true
    },
    "kernelspec": {
      "name": "python3",
      "display_name": "Python 3"
    },
    "language_info": {
      "name": "python"
    }
  },
  "cells": [
    {
      "cell_type": "markdown",
      "metadata": {
        "id": "view-in-github",
        "colab_type": "text"
      },
      "source": [
        "<a href=\"https://colab.research.google.com/github/SaulNunez/Notas-Curso-Deep-Learning-IA.Center/blob/master/DictionariesFunctions.ipynb\" target=\"_parent\"><img src=\"https://colab.research.google.com/assets/colab-badge.svg\" alt=\"Open In Colab\"/></a>"
      ]
    },
    {
      "cell_type": "markdown",
      "metadata": {
        "id": "96YPBA4VuqAN"
      },
      "source": [
        "# Dictionaries"
      ]
    },
    {
      "cell_type": "code",
      "metadata": {
        "colab": {
          "base_uri": "https://localhost:8080/"
        },
        "id": "CEKbepUPuOxA",
        "outputId": "c299336a-50a3-4701-eca2-3f6fab57a92b"
      },
      "source": [
        "dict1 = {\"a\": \"Python\", \"b\": \"Math\"}\n",
        "\n",
        "print(dict1[\"a\"])"
      ],
      "execution_count": 1,
      "outputs": [
        {
          "output_type": "stream",
          "text": [
            "Python\n"
          ],
          "name": "stdout"
        }
      ]
    },
    {
      "cell_type": "code",
      "metadata": {
        "colab": {
          "base_uri": "https://localhost:8080/"
        },
        "id": "aq2tjg2YwH72",
        "outputId": "0c6e2417-4459-4fa1-9708-bedb537e8398"
      },
      "source": [
        "for x in dict1:\n",
        "  # Print key\n",
        "  print(x)\n",
        "  # Print value\n",
        "  print(dict1[x])\n",
        "\n",
        "print(dict1)"
      ],
      "execution_count": 3,
      "outputs": [
        {
          "output_type": "stream",
          "text": [
            "a\n",
            "Python\n",
            "b\n",
            "Math\n",
            "{'a': 'Python', 'b': 'Math'}\n"
          ],
          "name": "stdout"
        }
      ]
    },
    {
      "cell_type": "markdown",
      "metadata": {
        "id": "n7hnAXTKwb5f"
      },
      "source": [
        "# Functions"
      ]
    },
    {
      "cell_type": "code",
      "metadata": {
        "colab": {
          "base_uri": "https://localhost:8080/"
        },
        "id": "4-UlHP32wdXl",
        "outputId": "77d98f61-ea0d-4da8-a339-72accd5754e2"
      },
      "source": [
        "def sum_2(x, y):\n",
        "  result = x + y\n",
        "  return result\n",
        "\n",
        "r = sum_2(2, 5)\n",
        "\n",
        "print(\"r: \", r)"
      ],
      "execution_count": 6,
      "outputs": [
        {
          "output_type": "stream",
          "text": [
            "r:  7\n"
          ],
          "name": "stdout"
        }
      ]
    }
  ]
}