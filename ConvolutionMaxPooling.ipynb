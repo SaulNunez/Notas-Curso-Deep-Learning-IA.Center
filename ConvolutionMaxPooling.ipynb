{
  "nbformat": 4,
  "nbformat_minor": 0,
  "metadata": {
    "colab": {
      "name": "ConvolutionMaxPooling.ipynb",
      "provenance": [],
      "authorship_tag": "ABX9TyM89UpvV72q/8TJE5CN19IK",
      "include_colab_link": true
    },
    "kernelspec": {
      "name": "python3",
      "display_name": "Python 3"
    },
    "language_info": {
      "name": "python"
    }
  },
  "cells": [
    {
      "cell_type": "markdown",
      "metadata": {
        "id": "view-in-github",
        "colab_type": "text"
      },
      "source": [
        "<a href=\"https://colab.research.google.com/github/SaulNunez/Notas-Curso-Deep-Learning-IA.Center/blob/master/ConvolutionMaxPooling.ipynb\" target=\"_parent\"><img src=\"https://colab.research.google.com/assets/colab-badge.svg\" alt=\"Open In Colab\"/></a>"
      ]
    },
    {
      "cell_type": "code",
      "metadata": {
        "id": "GlFScHvZ3FOy"
      },
      "source": [
        "def print_matrix(mat, name=None, val_len=3):\n",
        "  out_str = \"\"\n",
        "\n",
        "  if name is not None:\n",
        "    out_str += (\"--\" + \"-\" * val_len + \"-\") * len(mat[0]) + \"-\\n\"\n",
        "    out_str += str(name) + \":\\n\"\n",
        "\n",
        "  # Draw a starting line\n",
        "  out_str += (\"--\" + \"-\" * val_len + \"-\") * len(mat[0]) + \"-\\n\"\n",
        "\n",
        "  # Add all the values\n",
        "  for row in mat:\n",
        "    for val in row:\n",
        "      val = str(val)\n",
        "      out_str += \"| \" + \" \" * (val_len - len(val)) + val + \" \"\n",
        "    out_str += \"|\\n\"\n",
        "\n",
        "  if row is not mat[-1]:\n",
        "    #Draw the lines between rows\n",
        "    out_str += (\"|-\" + \"-\" * val_len + \"-\") * len(mat[0]) + \"|\\n\"\n",
        "\n",
        "  # Draw the last line\n",
        "  out_str += (\"--\" + \"-\" * val_len + \"-\") * len(mat[0]) + \"-\\n\"\n",
        "\n",
        "  print(out_str)"
      ],
      "execution_count": null,
      "outputs": []
    },
    {
      "cell_type": "code",
      "metadata": {
        "id": "As8r_ALk44Ss"
      },
      "source": [
        "def get_next_conv(img, kernel=None):\n",
        "  if kernel is None:\n",
        "    kernel = [[0,0,0],\n",
        "              [0,0,0],\n",
        "              [0,0,0]]\n",
        "  conv = []\n",
        "  for s_row in range(len(img) - len(kernel) + 1):\n",
        "    for s_column in range(len(img[0]) - len(kernel[0]) + 1):\n",
        "      conv = [[img[s_row][s_column], img[s_row][s_column + 1], img[s_row][s_column + 2]],\n",
        "              [img[s_row+1][s_column], img[s_row + 1][s_column + 1], img[s_row + 1][s_column + 2]],\n",
        "              [img[s_row+2][s_column], img[s_row + 2][s_column + 1], img[s_row + 2][s_column + 2]]\n",
        "              ]\n",
        "      yield conv"
      ],
      "execution_count": null,
      "outputs": []
    },
    {
      "cell_type": "code",
      "metadata": {
        "colab": {
          "base_uri": "https://localhost:8080/"
        },
        "id": "gfHJ6igZ-0hs",
        "outputId": "c95fda6c-5e34-43d2-9bc7-1fd8f2b491ee"
      },
      "source": [
        "img = [\n",
        "       [23, 42, 62, 231, 32],\n",
        "       [26, 211, 231, 255, 13],\n",
        "       [54, 189, 199, 230, 5],\n",
        "       [42, 110, 150, 99, 70],\n",
        "       [30, 70, 100, 10, 2]\n",
        "]\n",
        "\n",
        "print_matrix(img, \"Imagen Original\")"
      ],
      "execution_count": null,
      "outputs": [
        {
          "output_type": "stream",
          "text": [
            "-------------------------------\n",
            "Imagen Original:\n",
            "-------------------------------\n",
            "|  23 |  42 |  62 | 231 |  32 |\n",
            "|  26 | 211 | 231 | 255 |  13 |\n",
            "|  54 | 189 | 199 | 230 |   5 |\n",
            "|  42 | 110 | 150 |  99 |  70 |\n",
            "|  30 |  70 | 100 |  10 |   2 |\n",
            "-------------------------------\n",
            "\n"
          ],
          "name": "stdout"
        }
      ]
    },
    {
      "cell_type": "code",
      "metadata": {
        "colab": {
          "base_uri": "https://localhost:8080/"
        },
        "id": "xd1mfI7hDY6P",
        "outputId": "2c7c3251-faec-41ee-e54a-7ef7727ec2c9"
      },
      "source": [
        "for conv in get_next_conv(img):\n",
        "  print_matrix(conv)"
      ],
      "execution_count": null,
      "outputs": [
        {
          "output_type": "stream",
          "text": [
            "-------------------\n",
            "|  23 |  42 |  62 |\n",
            "|  26 | 211 | 231 |\n",
            "|  54 | 189 | 199 |\n",
            "-------------------\n",
            "\n",
            "-------------------\n",
            "|  42 |  62 | 231 |\n",
            "| 211 | 231 | 255 |\n",
            "| 189 | 199 | 230 |\n",
            "-------------------\n",
            "\n",
            "-------------------\n",
            "|  62 | 231 |  32 |\n",
            "| 231 | 255 |  13 |\n",
            "| 199 | 230 |   5 |\n",
            "-------------------\n",
            "\n",
            "-------------------\n",
            "|  26 | 211 | 231 |\n",
            "|  54 | 189 | 199 |\n",
            "|  42 | 110 | 150 |\n",
            "-------------------\n",
            "\n",
            "-------------------\n",
            "| 211 | 231 | 255 |\n",
            "| 189 | 199 | 230 |\n",
            "| 110 | 150 |  99 |\n",
            "-------------------\n",
            "\n",
            "-------------------\n",
            "| 231 | 255 |  13 |\n",
            "| 199 | 230 |   5 |\n",
            "| 150 |  99 |  70 |\n",
            "-------------------\n",
            "\n",
            "-------------------\n",
            "|  54 | 189 | 199 |\n",
            "|  42 | 110 | 150 |\n",
            "|  30 |  70 | 100 |\n",
            "-------------------\n",
            "\n",
            "-------------------\n",
            "| 189 | 199 | 230 |\n",
            "| 110 | 150 |  99 |\n",
            "|  70 | 100 |  10 |\n",
            "-------------------\n",
            "\n",
            "-------------------\n",
            "| 199 | 230 |   5 |\n",
            "| 150 |  99 |  70 |\n",
            "| 100 |  10 |   2 |\n",
            "-------------------\n",
            "\n"
          ],
          "name": "stdout"
        }
      ]
    },
    {
      "cell_type": "markdown",
      "metadata": {
        "id": "MAA6mu9Jlg9I"
      },
      "source": [
        "## Max Pooling\n"
      ]
    },
    {
      "cell_type": "code",
      "metadata": {
        "colab": {
          "base_uri": "https://localhost:8080/"
        },
        "id": "_2K7l1hklx5g",
        "outputId": "80aa4c67-0af1-4a1f-e7c2-ef321bb0a286"
      },
      "source": [
        "print_matrix(img, \"Original\")"
      ],
      "execution_count": null,
      "outputs": [
        {
          "output_type": "stream",
          "text": [
            "-------------------------------\n",
            "Original:\n",
            "-------------------------------\n",
            "|  23 |  42 |  62 | 231 |  32 |\n",
            "|  26 | 211 | 231 | 255 |  13 |\n",
            "|  54 | 189 | 199 | 230 |   5 |\n",
            "|  42 | 110 | 150 |  99 |  70 |\n",
            "|  30 |  70 | 100 |  10 |   2 |\n",
            "-------------------------------\n",
            "\n"
          ],
          "name": "stdout"
        }
      ]
    },
    {
      "cell_type": "markdown",
      "metadata": {
        "id": "kw5r6ESglieu"
      },
      "source": [
        "(2x2)\n",
        "\n",
        "Elegir el valor mayor de cada area separada."
      ]
    },
    {
      "cell_type": "code",
      "metadata": {
        "id": "GJ_vFyq8lKaP"
      },
      "source": [
        "max_pool = [\n",
        "            [211, 255],\n",
        "            [189, 230]\n",
        "]"
      ],
      "execution_count": null,
      "outputs": []
    },
    {
      "cell_type": "code",
      "metadata": {
        "colab": {
          "base_uri": "https://localhost:8080/"
        },
        "id": "VtTlMM7Zl2HG",
        "outputId": "12a747ec-2314-4663-c737-9aa17a0d5034"
      },
      "source": [
        "print_matrix(max_pool, \"Max Pooling\")"
      ],
      "execution_count": null,
      "outputs": [
        {
          "output_type": "stream",
          "text": [
            "-------------\n",
            "Max Pooling:\n",
            "-------------\n",
            "| 211 | 255 |\n",
            "| 189 | 230 |\n",
            "-------------\n",
            "\n"
          ],
          "name": "stdout"
        }
      ]
    }
  ]
}