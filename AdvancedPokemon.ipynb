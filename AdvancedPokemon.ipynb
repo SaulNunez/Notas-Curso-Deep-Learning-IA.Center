{
  "nbformat": 4,
  "nbformat_minor": 0,
  "metadata": {
    "colab": {
      "name": "AdvancedPokemon.ipynb",
      "provenance": [],
      "collapsed_sections": [],
      "authorship_tag": "ABX9TyMbYC/pNqDPRbjb+nwFbloN",
      "include_colab_link": true
    },
    "kernelspec": {
      "name": "python3",
      "display_name": "Python 3"
    },
    "language_info": {
      "name": "python"
    }
  },
  "cells": [
    {
      "cell_type": "markdown",
      "metadata": {
        "id": "view-in-github",
        "colab_type": "text"
      },
      "source": [
        "<a href=\"https://colab.research.google.com/github/SaulNunez/Notas-Curso-Deep-Learning-IA.Center/blob/master/AdvancedPokemon.ipynb\" target=\"_parent\"><img src=\"https://colab.research.google.com/assets/colab-badge.svg\" alt=\"Open In Colab\"/></a>"
      ]
    },
    {
      "cell_type": "markdown",
      "metadata": {
        "id": "TPXD0Pj2vSc8"
      },
      "source": [
        "# Problem: Best and Worst Pokemon\n",
        "\n",
        "In the Pokemon games, all of these creatures have a specific set of stats that determine their combat capabilities. Each Pokemon species has a series of Base stats, represented as integers between 1 and 255 that are used to determine its growth over time. Amongst fans, Base Stats are usually an indication of how powerful a Pokemon of a specific species can ultimately be, and this is represented by the sum of all the Pokemon's base stats.\n",
        "\n",
        "For example, Bulbasaur has the following stats:\n",
        "\n",
        " \n",
        "| Stat | Base value |\n",
        "| - | - |\n",
        " |Health Points\t| 45 |\n",
        "|Attack\t| 49 |\n",
        "|Defense\t| 65 |\n",
        "|Special Attack\t| 49 |\n",
        "|Special Defense |\t65 |\n",
        "|Speed\t| 45 |\n",
        "|TOTAL\t| 318 |\n",
        "\n",
        "Its evolution, lvysaur, has the following stats:\n",
        "\n",
        " \n",
        "| Stat\t| Base value |\n",
        "| - | -|\n",
        "| Health Points\t| 60 |\n",
        "| Attack\t| 62 |\n",
        "| Defense\t| 63 |\n",
        "| Special Attack\t| 80 |\n",
        "| Special Defense\t| 80 |\n",
        "| Speed\t| 60 |\n",
        "| TOTAL\t| 405 |\n",
        " \n",
        "In general, this means that we can compare two Pokemon species by the sum of their stats, to determine which Pokemon might be better or worse.\n",
        "\n",
        "For this extra credit problem, you have to complete code that compares multiple Pokemon,then selects the strongest and the weakest among them, based on the sum of their base values.\n",
        "First, you will have to make a Pokemon class. And you must add the six attributes described above.\n"
      ]
    },
    {
      "cell_type": "code",
      "metadata": {
        "id": "CsKeTmcy5K_A"
      },
      "source": [
        "class Pokemon():\n",
        "  name = 'no_name'\n",
        "  health_points = 0\n",
        "  attack = 0\n",
        "  defense = 0\n",
        "  special_attack = 0\n",
        "  special_defense = 0\n",
        "  speed = 0\n",
        "\n",
        "  def __str__(self):\n",
        "    return \"{}: Health points: {}, Attack: {}, Defense: {}, Special Attack: {}, Special Defense: {}, Speed: {}. Total: {}\".\\\n",
        "      format(self.name, self.health_points, self.attack, self.defense, \\\n",
        "             self.special_attack, self.special_defense, self.speed, self.total())\n",
        "\n",
        "  def total(self):\n",
        "    return self.health_points + self.attack + self.defense + self.special_attack + \\\n",
        "      self.special_defense + self.speed"
      ],
      "execution_count": 17,
      "outputs": []
    },
    {
      "cell_type": "markdown",
      "metadata": {
        "id": "CZeGhlnz8d4d"
      },
      "source": [
        "Then, you need to complete the following functions:\n",
        "\n",
        "•\treadPokemon() : Gets the data of a single Pokemon from the command line. It reads its attributes in order: Name, Health, Attack, Defense, Special Attack, Special Defense, and Speed. You must store all of these in a Pokemon object and return it.\n",
        "\n",
        "•\treadAllPokemon(n) : Reads n Pokemon from the standard input. You must use loops, and call the readPokemon function in this loop to get the information from each individual Pokemon.\n",
        "\n",
        "•\tprintBestStats(team) : Compares all Pokemon in the team parameter and prints out the one with the highest sum of base stats, as described above.\n",
        "\n",
        "•\tprintWorstStats(team) : Compares all Pokemon in the team parameter and prints out the one with the lowest sum of base stats, as described above.\n",
        "\n",
        "Assume that the Pokemon names contain no spaces, and that you do not need to do any numerical checks on the integer inputs.\n",
        "\n",
        "For example, if the list of Pokemon included only Bulbasaur and ivysaur, above, then the code in the end would print out:\n",
        "\n",
        "\n",
        "\n",
        "Best Pokemon: Ivysaur (405) \n",
        "Worst Pokemon: Bulbasaur (318)"
      ]
    },
    {
      "cell_type": "code",
      "metadata": {
        "id": "whnl98mSsw4M"
      },
      "source": [
        "def readPokemon():\n",
        "  print(\"CAPTURING POKEMON INFO\")\n",
        "\n",
        "  poke = Pokemon()\n",
        "\n",
        "  poke.name = input(\"Name:\")\n",
        "  poke.health_points = int(input(\"Health Points:\"))\n",
        "  poke.attack = int(input(\"Attack\"))\n",
        "  poke.defense = int(input(\"Defense\"))\n",
        "  poke.special_attack = int(input(\"Special Attack\"))\n",
        "  poke.special_defense = int(input(\"Special Defense\"))\n",
        "  poke.speed = int(input(\"Speed\"))\n",
        "\n",
        "  return poke\n",
        "\n",
        "def readAllPokemon():\n",
        "  pokemon = []\n",
        "\n",
        "  add_poke = input(\"Input new pokemon(y/n)\")\n",
        "  while(add_poke == 'y'):\n",
        "    pokemon.append(readPokemon())\n",
        "    add_poke = input(\"Input new pokemon(y/n)\")\n",
        "\n",
        "  return pokemon\n",
        "\n",
        "def printBestStats(pokemon):\n",
        "  best_stats = max(pokemon, key= lambda p: p.total())\n",
        "  print(\"Best Pokemon: {},({})\".format(best_stats.name, best_stats.total()))\n",
        "\n",
        "def printWorstStats(pokemon):\n",
        "  worst_stats = min(pokemon, key= lambda p: p.total())\n",
        "  print(\"Worst Pokemon: {},({})\".format(worst_stats.name, worst_stats.total()))"
      ],
      "execution_count": 18,
      "outputs": []
    },
    {
      "cell_type": "code",
      "metadata": {
        "colab": {
          "base_uri": "https://localhost:8080/"
        },
        "id": "mza75hm19EJs",
        "outputId": "c080e803-c835-4686-9902-cca85e150630"
      },
      "source": [
        "pokemon = readAllPokemon()\n",
        "\n",
        "print(pokemon)"
      ],
      "execution_count": 19,
      "outputs": [
        {
          "output_type": "stream",
          "text": [
            "Input new pokemon(y/n)y\n",
            "CAPTURING POKEMON INFO\n",
            "Name:Bulbasaur\n",
            "Health Points:45\n",
            "Attack49\n",
            "Defense65\n",
            "Special Attack49\n",
            "Special Defense65\n",
            "Speed45\n",
            "Input new pokemon(y/n)y\n",
            "CAPTURING POKEMON INFO\n",
            "Name:Ivysaur\n",
            "Health Points:60\n",
            "Attack62\n",
            "Defense63\n",
            "Special Attack80\n",
            "Special Defense80\n",
            "Speed60\n",
            "Input new pokemon(y/n)n\n",
            "[<__main__.Pokemon object at 0x7f7d981cfc50>, <__main__.Pokemon object at 0x7f7d9b654b50>]\n"
          ],
          "name": "stdout"
        }
      ]
    },
    {
      "cell_type": "code",
      "metadata": {
        "colab": {
          "base_uri": "https://localhost:8080/"
        },
        "id": "qpvirQo39kgT",
        "outputId": "9aa63b31-d9a0-4b4c-fa59-5c905ac86da1"
      },
      "source": [
        "printBestStats(pokemon)"
      ],
      "execution_count": 20,
      "outputs": [
        {
          "output_type": "stream",
          "text": [
            "Best Pokemon: {},({}) Ivysaur 405\n"
          ],
          "name": "stdout"
        }
      ]
    },
    {
      "cell_type": "code",
      "metadata": {
        "colab": {
          "base_uri": "https://localhost:8080/"
        },
        "id": "r1lkSgQ3AIlM",
        "outputId": "cda77743-a0fd-4bd6-82a4-9571fa5f24bd"
      },
      "source": [
        "printWorstStats(pokemon)"
      ],
      "execution_count": 21,
      "outputs": [
        {
          "output_type": "stream",
          "text": [
            "Worst Pokemon: {},({}) Bulbasaur 318\n"
          ],
          "name": "stdout"
        }
      ]
    }
  ]
}